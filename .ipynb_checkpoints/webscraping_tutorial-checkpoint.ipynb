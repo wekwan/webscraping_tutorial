{
 "cells": [
  {
   "cell_type": "markdown",
   "metadata": {},
   "source": [
    "Before starting, you'll need to install these packages. This can be done by executing <em>pip install package_to_install</em> in terminal. For example, to install pandas, run <em>pip install pandas</em>."
   ]
  },
  {
   "cell_type": "code",
   "execution_count": 1,
   "metadata": {},
   "outputs": [],
   "source": [
    "import requests  # this package allows us to 'request' data from a site in the form of HTML\n",
    "import bs4  # this package, known as BeautifulSoup, helps with parsing the HTML you get from a site\n",
    "import pandas as pd  # this package works with tabular data"
   ]
  },
  {
   "cell_type": "markdown",
   "metadata": {},
   "source": [
    "<b>Using pd.read_html</b>"
   ]
  },
  {
   "cell_type": "markdown",
   "metadata": {},
   "source": [
    "Before we start webscraping, we should make sure that there isn't already an easier way to get the data we need. pandas has a function called read_html, which is very good at taking tabular data from a website and converting it into a dataframe."
   ]
  },
  {
   "cell_type": "code",
   "execution_count": 4,
   "metadata": {},
   "outputs": [],
   "source": [
    "url = 'https://finance.yahoo.com/quote/ARNC/financials?p=ARNC'"
   ]
  },
  {
   "cell_type": "code",
   "execution_count": 5,
   "metadata": {},
   "outputs": [
    {
     "ename": "ValueError",
     "evalue": "No tables found",
     "output_type": "error",
     "traceback": [
      "\u001b[1;31m---------------------------------------------------------------------------\u001b[0m",
      "\u001b[1;31mValueError\u001b[0m                                Traceback (most recent call last)",
      "\u001b[1;32m<ipython-input-5-80aa8b09afdd>\u001b[0m in \u001b[0;36m<module>\u001b[1;34m\u001b[0m\n\u001b[1;32m----> 1\u001b[1;33m \u001b[0mdf1\u001b[0m \u001b[1;33m=\u001b[0m \u001b[0mpd\u001b[0m\u001b[1;33m.\u001b[0m\u001b[0mread_html\u001b[0m\u001b[1;33m(\u001b[0m\u001b[0murl\u001b[0m\u001b[1;33m)\u001b[0m\u001b[1;33m\u001b[0m\u001b[1;33m\u001b[0m\u001b[0m\n\u001b[0m\u001b[0;32m      2\u001b[0m \u001b[0mdf1\u001b[0m \u001b[1;33m=\u001b[0m \u001b[0mdf1\u001b[0m\u001b[1;33m[\u001b[0m\u001b[1;36m0\u001b[0m\u001b[1;33m]\u001b[0m  \u001b[1;31m# because read_html returns a list of dataframes\u001b[0m\u001b[1;33m\u001b[0m\u001b[1;33m\u001b[0m\u001b[0m\n",
      "\u001b[1;32m~\\Anaconda3\\lib\\site-packages\\pandas\\io\\html.py\u001b[0m in \u001b[0;36mread_html\u001b[1;34m(io, match, flavor, header, index_col, skiprows, attrs, parse_dates, tupleize_cols, thousands, encoding, decimal, converters, na_values, keep_default_na, displayed_only)\u001b[0m\n\u001b[0;32m   1092\u001b[0m                   \u001b[0mdecimal\u001b[0m\u001b[1;33m=\u001b[0m\u001b[0mdecimal\u001b[0m\u001b[1;33m,\u001b[0m \u001b[0mconverters\u001b[0m\u001b[1;33m=\u001b[0m\u001b[0mconverters\u001b[0m\u001b[1;33m,\u001b[0m \u001b[0mna_values\u001b[0m\u001b[1;33m=\u001b[0m\u001b[0mna_values\u001b[0m\u001b[1;33m,\u001b[0m\u001b[1;33m\u001b[0m\u001b[1;33m\u001b[0m\u001b[0m\n\u001b[0;32m   1093\u001b[0m                   \u001b[0mkeep_default_na\u001b[0m\u001b[1;33m=\u001b[0m\u001b[0mkeep_default_na\u001b[0m\u001b[1;33m,\u001b[0m\u001b[1;33m\u001b[0m\u001b[1;33m\u001b[0m\u001b[0m\n\u001b[1;32m-> 1094\u001b[1;33m                   displayed_only=displayed_only)\n\u001b[0m",
      "\u001b[1;32m~\\Anaconda3\\lib\\site-packages\\pandas\\io\\html.py\u001b[0m in \u001b[0;36m_parse\u001b[1;34m(flavor, io, match, attrs, encoding, displayed_only, **kwargs)\u001b[0m\n\u001b[0;32m    914\u001b[0m             \u001b[1;32mbreak\u001b[0m\u001b[1;33m\u001b[0m\u001b[1;33m\u001b[0m\u001b[0m\n\u001b[0;32m    915\u001b[0m     \u001b[1;32melse\u001b[0m\u001b[1;33m:\u001b[0m\u001b[1;33m\u001b[0m\u001b[1;33m\u001b[0m\u001b[0m\n\u001b[1;32m--> 916\u001b[1;33m         \u001b[0mraise_with_traceback\u001b[0m\u001b[1;33m(\u001b[0m\u001b[0mretained\u001b[0m\u001b[1;33m)\u001b[0m\u001b[1;33m\u001b[0m\u001b[1;33m\u001b[0m\u001b[0m\n\u001b[0m\u001b[0;32m    917\u001b[0m \u001b[1;33m\u001b[0m\u001b[0m\n\u001b[0;32m    918\u001b[0m     \u001b[0mret\u001b[0m \u001b[1;33m=\u001b[0m \u001b[1;33m[\u001b[0m\u001b[1;33m]\u001b[0m\u001b[1;33m\u001b[0m\u001b[1;33m\u001b[0m\u001b[0m\n",
      "\u001b[1;32m~\\Anaconda3\\lib\\site-packages\\pandas\\compat\\__init__.py\u001b[0m in \u001b[0;36mraise_with_traceback\u001b[1;34m(exc, traceback)\u001b[0m\n\u001b[0;32m    418\u001b[0m         \u001b[1;32mif\u001b[0m \u001b[0mtraceback\u001b[0m \u001b[1;33m==\u001b[0m \u001b[0mEllipsis\u001b[0m\u001b[1;33m:\u001b[0m\u001b[1;33m\u001b[0m\u001b[1;33m\u001b[0m\u001b[0m\n\u001b[0;32m    419\u001b[0m             \u001b[0m_\u001b[0m\u001b[1;33m,\u001b[0m \u001b[0m_\u001b[0m\u001b[1;33m,\u001b[0m \u001b[0mtraceback\u001b[0m \u001b[1;33m=\u001b[0m \u001b[0msys\u001b[0m\u001b[1;33m.\u001b[0m\u001b[0mexc_info\u001b[0m\u001b[1;33m(\u001b[0m\u001b[1;33m)\u001b[0m\u001b[1;33m\u001b[0m\u001b[1;33m\u001b[0m\u001b[0m\n\u001b[1;32m--> 420\u001b[1;33m         \u001b[1;32mraise\u001b[0m \u001b[0mexc\u001b[0m\u001b[1;33m.\u001b[0m\u001b[0mwith_traceback\u001b[0m\u001b[1;33m(\u001b[0m\u001b[0mtraceback\u001b[0m\u001b[1;33m)\u001b[0m\u001b[1;33m\u001b[0m\u001b[1;33m\u001b[0m\u001b[0m\n\u001b[0m\u001b[0;32m    421\u001b[0m \u001b[1;32melse\u001b[0m\u001b[1;33m:\u001b[0m\u001b[1;33m\u001b[0m\u001b[1;33m\u001b[0m\u001b[0m\n\u001b[0;32m    422\u001b[0m     \u001b[1;31m# this version of raise is a syntax error in Python 3\u001b[0m\u001b[1;33m\u001b[0m\u001b[1;33m\u001b[0m\u001b[1;33m\u001b[0m\u001b[0m\n",
      "\u001b[1;31mValueError\u001b[0m: No tables found"
     ]
    }
   ],
   "source": [
    "df1 = pd.read_html(url)\n",
    "df1 = df1[0]  # because read_html returns a list of dataframes"
   ]
  },
  {
   "cell_type": "code",
   "execution_count": null,
   "metadata": {},
   "outputs": [],
   "source": [
    "df1.head()  # first 5 rows of the dataframe"
   ]
  },
  {
   "cell_type": "markdown",
   "metadata": {},
   "source": [
    "Note that we lose information on the 52 Week Range since this isn't easily parsed."
   ]
  },
  {
   "cell_type": "code",
   "execution_count": 5,
   "metadata": {},
   "outputs": [
    {
     "data": {
      "text/plain": [
       "(100, 10)"
      ]
     },
     "execution_count": 5,
     "metadata": {},
     "output_type": "execute_result"
    }
   ],
   "source": [
    "df1.shape  # how big the dataframe is: (# rows, # columns)"
   ]
  },
  {
   "cell_type": "markdown",
   "metadata": {},
   "source": [
    "Well, we don't only want the first 100 rows. We want all of the data. After some poking around on the website (mainly hitting the next button and looking at how the url changes), we can retrieve the rest of the data."
   ]
  },
  {
   "cell_type": "code",
   "execution_count": 6,
   "metadata": {},
   "outputs": [],
   "source": [
    "# if there were more than three pages, we would instead use a loop to go over count and offset\n",
    "df2 = pd.read_html('https://finance.yahoo.com/most-active?count=100&offset=100')\n",
    "df2 = df2[0]\n",
    "df3 = pd.read_html('https://finance.yahoo.com/most-active?count=100&offset=200')\n",
    "df3 = df3[0]"
   ]
  },
  {
   "cell_type": "code",
   "execution_count": 7,
   "metadata": {},
   "outputs": [],
   "source": [
    "total_df = pd.concat([df1, df2, df3], axis = 0)  # putting all the dataframes together"
   ]
  },
  {
   "cell_type": "code",
   "execution_count": 8,
   "metadata": {},
   "outputs": [
    {
     "data": {
      "text/html": [
       "<div>\n",
       "<style scoped>\n",
       "    .dataframe tbody tr th:only-of-type {\n",
       "        vertical-align: middle;\n",
       "    }\n",
       "\n",
       "    .dataframe tbody tr th {\n",
       "        vertical-align: top;\n",
       "    }\n",
       "\n",
       "    .dataframe thead th {\n",
       "        text-align: right;\n",
       "    }\n",
       "</style>\n",
       "<table border=\"1\" class=\"dataframe\">\n",
       "  <thead>\n",
       "    <tr style=\"text-align: right;\">\n",
       "      <th></th>\n",
       "      <th>Symbol</th>\n",
       "      <th>Name</th>\n",
       "      <th>Price (Intraday)</th>\n",
       "      <th>Change</th>\n",
       "      <th>% Change</th>\n",
       "      <th>Volume</th>\n",
       "      <th>Avg Vol (3 month)</th>\n",
       "      <th>Market Cap</th>\n",
       "      <th>PE Ratio (TTM)</th>\n",
       "      <th>52 Week Range</th>\n",
       "    </tr>\n",
       "  </thead>\n",
       "  <tbody>\n",
       "    <tr>\n",
       "      <th>0</th>\n",
       "      <td>GE</td>\n",
       "      <td>General Electric Company</td>\n",
       "      <td>5.49</td>\n",
       "      <td>-0.21</td>\n",
       "      <td>-3.68%</td>\n",
       "      <td>128.486M</td>\n",
       "      <td>112.792M</td>\n",
       "      <td>48.022B</td>\n",
       "      <td>NaN</td>\n",
       "      <td>NaN</td>\n",
       "    </tr>\n",
       "    <tr>\n",
       "      <th>1</th>\n",
       "      <td>F</td>\n",
       "      <td>Ford Motor Company</td>\n",
       "      <td>4.90</td>\n",
       "      <td>0.01</td>\n",
       "      <td>+0.20%</td>\n",
       "      <td>80.545M</td>\n",
       "      <td>100.421M</td>\n",
       "      <td>19.487B</td>\n",
       "      <td>NaN</td>\n",
       "      <td>NaN</td>\n",
       "    </tr>\n",
       "    <tr>\n",
       "      <th>2</th>\n",
       "      <td>AMD</td>\n",
       "      <td>Advanced Micro Devices, Inc.</td>\n",
       "      <td>54.20</td>\n",
       "      <td>-0.31</td>\n",
       "      <td>-0.57%</td>\n",
       "      <td>66.951M</td>\n",
       "      <td>83.163M</td>\n",
       "      <td>63.479B</td>\n",
       "      <td>127.23</td>\n",
       "      <td>NaN</td>\n",
       "    </tr>\n",
       "    <tr>\n",
       "      <th>3</th>\n",
       "      <td>BAC</td>\n",
       "      <td>Bank of America Corporation</td>\n",
       "      <td>21.44</td>\n",
       "      <td>-0.27</td>\n",
       "      <td>-1.24%</td>\n",
       "      <td>64.484M</td>\n",
       "      <td>93.075M</td>\n",
       "      <td>186.005B</td>\n",
       "      <td>8.72</td>\n",
       "      <td>NaN</td>\n",
       "    </tr>\n",
       "    <tr>\n",
       "      <th>4</th>\n",
       "      <td>WFC</td>\n",
       "      <td>Wells Fargo &amp; Company</td>\n",
       "      <td>23.36</td>\n",
       "      <td>-0.70</td>\n",
       "      <td>-2.91%</td>\n",
       "      <td>51.617M</td>\n",
       "      <td>45.707M</td>\n",
       "      <td>95.776B</td>\n",
       "      <td>8.08</td>\n",
       "      <td>NaN</td>\n",
       "    </tr>\n",
       "  </tbody>\n",
       "</table>\n",
       "</div>"
      ],
      "text/plain": [
       "  Symbol                          Name  Price (Intraday)  Change % Change  \\\n",
       "0     GE      General Electric Company              5.49   -0.21   -3.68%   \n",
       "1      F            Ford Motor Company              4.90    0.01   +0.20%   \n",
       "2    AMD  Advanced Micro Devices, Inc.             54.20   -0.31   -0.57%   \n",
       "3    BAC   Bank of America Corporation             21.44   -0.27   -1.24%   \n",
       "4    WFC         Wells Fargo & Company             23.36   -0.70   -2.91%   \n",
       "\n",
       "     Volume Avg Vol (3 month) Market Cap  PE Ratio (TTM)  52 Week Range  \n",
       "0  128.486M          112.792M    48.022B             NaN            NaN  \n",
       "1   80.545M          100.421M    19.487B             NaN            NaN  \n",
       "2   66.951M           83.163M    63.479B          127.23            NaN  \n",
       "3   64.484M           93.075M   186.005B            8.72            NaN  \n",
       "4   51.617M           45.707M    95.776B            8.08            NaN  "
      ]
     },
     "execution_count": 8,
     "metadata": {},
     "output_type": "execute_result"
    }
   ],
   "source": [
    "total_df.head()"
   ]
  },
  {
   "cell_type": "code",
   "execution_count": 9,
   "metadata": {},
   "outputs": [
    {
     "data": {
      "text/plain": [
       "(265, 10)"
      ]
     },
     "execution_count": 9,
     "metadata": {},
     "output_type": "execute_result"
    }
   ],
   "source": [
    "total_df.shape"
   ]
  },
  {
   "cell_type": "markdown",
   "metadata": {},
   "source": [
    "Now our total dataframe contains all the data from Yahoo's most-active."
   ]
  },
  {
   "cell_type": "markdown",
   "metadata": {},
   "source": [
    "<b>Webscraping with BeautifulSoup (bs4)</b>"
   ]
  },
  {
   "cell_type": "markdown",
   "metadata": {},
   "source": [
    "Webscraping with BeautifulSoup has the following steps (generally):\n",
    "1. Request HTML from a website using requests. You will get a response object that contains HTML.\n",
    "2. Create a soup object with the HTML you got.\n",
    "3. Look through the HTML to find where your data is and see if there are patterns in the way your data is stored in the HTML.\n",
    "4. Use BeautifulSoup to exploit those patterns and extract your data.\n",
    "5. Store your data somewhere nice, like a csv file or a pandas dataframe."
   ]
  },
  {
   "cell_type": "code",
   "execution_count": 10,
   "metadata": {},
   "outputs": [],
   "source": [
    "# getting a response from a site\n",
    "url = 'https://finance.yahoo.com/most-active'\n",
    "response = requests.get(url)"
   ]
  },
  {
   "cell_type": "markdown",
   "metadata": {},
   "source": [
    "Notice that you get HTML as a response and it looks really ugly. This is why we use BeautifulSoup to help us parse this."
   ]
  },
  {
   "cell_type": "code",
   "execution_count": 11,
   "metadata": {},
   "outputs": [
    {
     "data": {
      "text/plain": [
       "'<!DOCTYPE html><html id=\"atomic\" class=\"NoJs featurephone\" lang=\"en-US\"><head prefix=\"og: http://ogp.me/ns#\"><script>window.performance && window.performance.mark && window.performance.mark(\\'PageStart\\');</script><meta charset=\"utf-8\"/><title>Most Active Stocks Today - Yahoo Finance</title><meta name=\"keywords\" content=\"Stock Screener, industry, index membership, share data, stock price, market cap, beta, sales, profitability, valuation ratios, analyst estimates, large cap value, bargain growth, preset stock screens\"/><meta http-equiv=\"x-dns-prefetch-control\" content=\"on\"/><meta property=\"twitter:dnt\" content=\"on\"/><meta property=\"fb:app_id\" content=\"90376669494\"/><meta name=\"theme-color\" content=\"#400090\"/><meta name=\"viewport\" content=\"width=device-width, initial-scale=1\"/><meta name=\"description\" lang=\"en-US\" content=\"See the list of the most active stocks today, including share price change and percentage, trading volume, intraday highs and lows, and day charts.\"/><meta name=\"oath:g'"
      ]
     },
     "execution_count": 11,
     "metadata": {},
     "output_type": "execute_result"
    }
   ],
   "source": [
    "response.text[:1000]  # displaying the first 1000 characters of the response we got"
   ]
  },
  {
   "cell_type": "code",
   "execution_count": 13,
   "metadata": {},
   "outputs": [],
   "source": [
    "soup = bs4.BeautifulSoup(response.text)  # we create a BeautifulSoup object using the response we got"
   ]
  },
  {
   "cell_type": "code",
   "execution_count": 14,
   "metadata": {
    "scrolled": false
   },
   "outputs": [
    {
     "name": "stdout",
     "output_type": "stream",
     "text": [
      "<!DOCTYPE html>\n",
      "<html class=\"NoJs featurephone\" id=\"atomic\" lang=\"en-US\">\n",
      " <head prefix=\"og: http://ogp.me/ns#\">\n",
      "  <script>\n",
      "   window.performance && window.performance.mark && window.performance.mark('PageStart');\n",
      "  </script>\n",
      "  <meta charset=\"utf-8\"/>\n",
      "  <title>\n",
      "   Most Active Stocks Today - Yahoo Finance\n",
      "  </title>\n",
      "  <meta content=\"Stock Screener, industry, index membership, share data, stock price, market cap, beta, sales, profitability, valuation ratios, analyst estimates, large cap value, bargain growth, preset stock screens\" name=\"keywords\"/>\n",
      "  <meta content=\"on\" http-equiv=\"x-dns-prefetch-control\"/>\n",
      "  <meta content=\"on\" property=\"twitter:dnt\"/>\n",
      "  <meta content=\"90376669494\" property=\"fb:app_id\"/>\n",
      "  <meta content=\"#400090\" name=\"theme-color\"/>\n",
      "  <meta content=\"width=device-width, initial-scale=1\" name=\"viewport\"/>\n",
      "  <meta content=\"See the list of the most active stocks today, including share price change and percentage, trading volume, intraday highs and lows, and day charts.\" lang\n"
     ]
    }
   ],
   "source": [
    "print(soup.prettify()[:1000])  # displaying the first 1000 characters in a prettier way"
   ]
  },
  {
   "cell_type": "code",
   "execution_count": 16,
   "metadata": {},
   "outputs": [
    {
     "data": {
      "text/plain": [
       "906963"
      ]
     },
     "execution_count": 16,
     "metadata": {},
     "output_type": "execute_result"
    }
   ],
   "source": [
    "len(response.text)  # the actual number of characters is over 900,000"
   ]
  },
  {
   "cell_type": "markdown",
   "metadata": {},
   "source": [
    "For webscraping, it is useful to know how HTML is written because you have to look for patterns within the HTML to find the data you need. When scrolling through the massive HTML, I noticed that the data we want is under the 'td' HTML tag (which is for table cells)."
   ]
  },
  {
   "cell_type": "code",
   "execution_count": 17,
   "metadata": {},
   "outputs": [
    {
     "data": {
      "text/plain": [
       "[<td aria-label=\"Symbol\" class=\"Va(m) Ta(start) Pstart(6px) Pend(10px) Miw(90px) Start(0) Pend(10px) simpTblRow:h_Bgc($extraLightBlue) Bgc(white) Ta(start)! Fz(s)\" colspan=\"\" data-reactid=\"59\"><a class=\"Fw(600)\" data-reactid=\"60\" href=\"/quote/GE?p=GE\" title=\"General Electric Company\">GE</a></td>,\n",
       " <td aria-label=\"Name\" class=\"Va(m) Ta(start) Px(10px) Fz(s)\" colspan=\"\" data-reactid=\"61\"><!-- react-text: 62 -->General Electric Company<!-- /react-text --></td>,\n",
       " <td aria-label=\"Price (Intraday)\" class=\"Va(m) Ta(end) Pstart(20px) Fw(600) Fz(s)\" colspan=\"\" data-reactid=\"63\"><span class=\"Trsdu(0.3s)\" data-reactid=\"64\">5.49</span></td>,\n",
       " <td aria-label=\"Change\" class=\"Va(m) Ta(end) Pstart(20px) Fw(600) Fz(s)\" colspan=\"\" data-reactid=\"65\"><span class=\"Trsdu(0.3s) Fw(600) C($negativeColor)\" data-reactid=\"66\">-0.21</span></td>,\n",
       " <td aria-label=\"% Change\" class=\"Va(m) Ta(end) Pstart(20px) Fw(600) Fz(s)\" colspan=\"\" data-reactid=\"67\"><span class=\"Trsdu(0.3s) Fw(600) C($negativeColor)\" data-reactid=\"68\">-3.68%</span></td>,\n",
       " <td aria-label=\"Volume\" class=\"Va(m) Ta(end) Pstart(20px) Fz(s)\" colspan=\"\" data-reactid=\"69\"><span class=\"Trsdu(0.3s)\" data-reactid=\"70\">128.486M</span></td>,\n",
       " <td aria-label=\"Avg Vol (3 month)\" class=\"Va(m) Ta(end) Pstart(20px) Fz(s)\" colspan=\"\" data-reactid=\"71\"><!-- react-text: 72 -->112.792M<!-- /react-text --></td>,\n",
       " <td aria-label=\"Market Cap\" class=\"Va(m) Ta(end) Pstart(20px) Pend(10px) W(120px) Fz(s)\" colspan=\"\" data-reactid=\"73\"><span class=\"Trsdu(0.3s)\" data-reactid=\"74\">48.022B</span></td>,\n",
       " <td aria-label=\"PE Ratio (TTM)\" class=\"Va(m) Ta(end) Pstart(20px) Fz(s)\" colspan=\"\" data-reactid=\"75\"><span data-reactid=\"76\">N/A</span></td>,\n",
       " <td aria-label=\"52 Week Range\" class=\"Va(m) Ta(end) Pstart(20px) Pend(6px) Fz(s)\" colspan=\"\" data-reactid=\"77\"><canvas data-reactid=\"78\" style=\"width:140px;height:23px;\"></canvas></td>]"
      ]
     },
     "execution_count": 17,
     "metadata": {},
     "output_type": "execute_result"
    }
   ],
   "source": [
    "soup.find_all('td')[:10]  # using BeautifulSoup to find all the td tags and looking at the first 10"
   ]
  },
  {
   "cell_type": "markdown",
   "metadata": {},
   "source": [
    "Looking closely at the list above, we see all the information for a single company: the first string gives us the symbol for the company, the second string gives us the name of the company, the third string gives us the intraday price, and so on. Using this information, we can parse through the HTML to extract the information we want."
   ]
  },
  {
   "cell_type": "code",
   "execution_count": 18,
   "metadata": {},
   "outputs": [],
   "source": [
    "# find all td tags with attribute aria-label = \"Symbol\"\n",
    "symbols_list = soup.find_all('td', attrs = {'aria-label': \"Symbol\"})\n",
    "symbols_col = []\n",
    "# loop through all the found tags and extract their text in the tag\n",
    "for i in symbols_list:\n",
    "    symbols_col.append(i.text)"
   ]
  },
  {
   "cell_type": "code",
   "execution_count": 19,
   "metadata": {},
   "outputs": [
    {
     "data": {
      "text/plain": [
       "['GE', 'F', 'AMD', 'BAC', 'WFC']"
      ]
     },
     "execution_count": 19,
     "metadata": {},
     "output_type": "execute_result"
    }
   ],
   "source": [
    "symbols_col[:5]"
   ]
  },
  {
   "cell_type": "code",
   "execution_count": 20,
   "metadata": {},
   "outputs": [],
   "source": [
    "# find all td tags with attribute aria-label = \"Name\"\n",
    "names_list = soup.find_all('td', attrs = {'aria-label': \"Name\"})\n",
    "names_col = []\n",
    "# loop through all the found tags and extract their text in the tag\n",
    "for i in names_list:\n",
    "    names_col.append(i.text)"
   ]
  },
  {
   "cell_type": "code",
   "execution_count": 21,
   "metadata": {},
   "outputs": [
    {
     "data": {
      "text/plain": [
       "['General Electric Company',\n",
       " 'Ford Motor Company',\n",
       " 'Advanced Micro Devices, Inc.',\n",
       " 'Bank of America Corporation',\n",
       " 'Wells Fargo & Company']"
      ]
     },
     "execution_count": 21,
     "metadata": {},
     "output_type": "execute_result"
    }
   ],
   "source": [
    "names_col[:5]"
   ]
  },
  {
   "cell_type": "markdown",
   "metadata": {},
   "source": [
    "You get the gist..."
   ]
  },
  {
   "cell_type": "markdown",
   "metadata": {},
   "source": [
    "I will loop through things we care about (symbol, name, price, etc.) and extract it in a similar way."
   ]
  },
  {
   "cell_type": "code",
   "execution_count": 22,
   "metadata": {},
   "outputs": [],
   "source": [
    "# these are all the columns we need (excluding 52 week range)\n",
    "column_names = ['Symbol', 'Name', 'Price (Intraday)', 'Change', \n",
    "                '% Change', 'Volume', 'Avg Vol (3 month)', 'Market Cap', 'PE Ratio (TTM)']"
   ]
  },
  {
   "cell_type": "code",
   "execution_count": 23,
   "metadata": {},
   "outputs": [],
   "source": [
    "all_columns = []\n",
    "for col_name in column_names:\n",
    "    soup_list = soup.find_all('td', attrs = {'aria-label': col_name})\n",
    "    temp_col = []\n",
    "    for i in soup_list:\n",
    "        temp_col.append(i.text)\n",
    "    all_columns.append(temp_col)"
   ]
  },
  {
   "cell_type": "code",
   "execution_count": 24,
   "metadata": {},
   "outputs": [
    {
     "data": {
      "text/html": [
       "<div>\n",
       "<style scoped>\n",
       "    .dataframe tbody tr th:only-of-type {\n",
       "        vertical-align: middle;\n",
       "    }\n",
       "\n",
       "    .dataframe tbody tr th {\n",
       "        vertical-align: top;\n",
       "    }\n",
       "\n",
       "    .dataframe thead th {\n",
       "        text-align: right;\n",
       "    }\n",
       "</style>\n",
       "<table border=\"1\" class=\"dataframe\">\n",
       "  <thead>\n",
       "    <tr style=\"text-align: right;\">\n",
       "      <th></th>\n",
       "      <th>Symbol</th>\n",
       "      <th>Name</th>\n",
       "      <th>Price (Intraday)</th>\n",
       "      <th>Change</th>\n",
       "      <th>% Change</th>\n",
       "      <th>Volume</th>\n",
       "      <th>Avg Vol (3 month)</th>\n",
       "      <th>Market Cap</th>\n",
       "      <th>PE Ratio (TTM)</th>\n",
       "    </tr>\n",
       "  </thead>\n",
       "  <tbody>\n",
       "    <tr>\n",
       "      <th>0</th>\n",
       "      <td>GE</td>\n",
       "      <td>General Electric Company</td>\n",
       "      <td>5.49</td>\n",
       "      <td>-0.21</td>\n",
       "      <td>-3.68%</td>\n",
       "      <td>128.486M</td>\n",
       "      <td>112.792M</td>\n",
       "      <td>48.022B</td>\n",
       "      <td>N/A</td>\n",
       "    </tr>\n",
       "    <tr>\n",
       "      <th>1</th>\n",
       "      <td>F</td>\n",
       "      <td>Ford Motor Company</td>\n",
       "      <td>4.9000</td>\n",
       "      <td>+0.0100</td>\n",
       "      <td>+0.20%</td>\n",
       "      <td>80.545M</td>\n",
       "      <td>100.421M</td>\n",
       "      <td>19.487B</td>\n",
       "      <td>N/A</td>\n",
       "    </tr>\n",
       "    <tr>\n",
       "      <th>2</th>\n",
       "      <td>AMD</td>\n",
       "      <td>Advanced Micro Devices, Inc.</td>\n",
       "      <td>54.20</td>\n",
       "      <td>-0.31</td>\n",
       "      <td>-0.57%</td>\n",
       "      <td>66.951M</td>\n",
       "      <td>83.163M</td>\n",
       "      <td>63.479B</td>\n",
       "      <td>127.23</td>\n",
       "    </tr>\n",
       "    <tr>\n",
       "      <th>3</th>\n",
       "      <td>BAC</td>\n",
       "      <td>Bank of America Corporation</td>\n",
       "      <td>21.44</td>\n",
       "      <td>-0.27</td>\n",
       "      <td>-1.24%</td>\n",
       "      <td>64.484M</td>\n",
       "      <td>93.075M</td>\n",
       "      <td>186.005B</td>\n",
       "      <td>8.72</td>\n",
       "    </tr>\n",
       "    <tr>\n",
       "      <th>4</th>\n",
       "      <td>WFC</td>\n",
       "      <td>Wells Fargo &amp; Company</td>\n",
       "      <td>23.36</td>\n",
       "      <td>-0.70</td>\n",
       "      <td>-2.91%</td>\n",
       "      <td>51.617M</td>\n",
       "      <td>45.707M</td>\n",
       "      <td>95.776B</td>\n",
       "      <td>8.08</td>\n",
       "    </tr>\n",
       "  </tbody>\n",
       "</table>\n",
       "</div>"
      ],
      "text/plain": [
       "  Symbol                          Name Price (Intraday)   Change % Change  \\\n",
       "0     GE      General Electric Company             5.49    -0.21   -3.68%   \n",
       "1      F            Ford Motor Company           4.9000  +0.0100   +0.20%   \n",
       "2    AMD  Advanced Micro Devices, Inc.            54.20    -0.31   -0.57%   \n",
       "3    BAC   Bank of America Corporation            21.44    -0.27   -1.24%   \n",
       "4    WFC         Wells Fargo & Company            23.36    -0.70   -2.91%   \n",
       "\n",
       "     Volume Avg Vol (3 month) Market Cap PE Ratio (TTM)  \n",
       "0  128.486M          112.792M    48.022B            N/A  \n",
       "1   80.545M          100.421M    19.487B            N/A  \n",
       "2   66.951M           83.163M    63.479B         127.23  \n",
       "3   64.484M           93.075M   186.005B           8.72  \n",
       "4   51.617M           45.707M    95.776B           8.08  "
      ]
     },
     "execution_count": 24,
     "metadata": {},
     "output_type": "execute_result"
    }
   ],
   "source": [
    "# we pass all the information we extract into a pandas dataframe\n",
    "webscrape_df = pd.DataFrame(all_columns).T\n",
    "webscrape_df.columns = column_names\n",
    "webscrape_df.head()"
   ]
  },
  {
   "cell_type": "markdown",
   "metadata": {},
   "source": [
    "We get the same dataframe as we did when we used pd.read_html!"
   ]
  },
  {
   "cell_type": "markdown",
   "metadata": {},
   "source": [
    "Similar logic can be used to extract the rest of the data on other pages by changing the url we request. This code should be cleaned up and put into a function so we can simply pass in a url and the function will return a dataframe of the data we want."
   ]
  }
 ],
 "metadata": {
  "kernelspec": {
   "display_name": "Python 3",
   "language": "python",
   "name": "python3"
  },
  "language_info": {
   "codemirror_mode": {
    "name": "ipython",
    "version": 3
   },
   "file_extension": ".py",
   "mimetype": "text/x-python",
   "name": "python",
   "nbconvert_exporter": "python",
   "pygments_lexer": "ipython3",
   "version": "3.6.7"
  }
 },
 "nbformat": 4,
 "nbformat_minor": 2
}
